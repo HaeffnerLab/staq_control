{
 "cells": [
  {
   "cell_type": "code",
   "execution_count": 16,
   "metadata": {
    "ExecuteTime": {
     "end_time": "2022-06-28T00:57:20.295316Z",
     "start_time": "2022-06-28T00:57:20.291405Z"
    }
   },
   "outputs": [],
   "source": [
    "import serial\n",
    "import time as sleepy"
   ]
  },
  {
   "cell_type": "code",
   "execution_count": 17,
   "metadata": {
    "ExecuteTime": {
     "end_time": "2022-06-28T00:57:20.740160Z",
     "start_time": "2022-06-28T00:57:20.718517Z"
    }
   },
   "outputs": [
    {
     "name": "stdout",
     "output_type": "stream",
     "text": [
      "/dev/ttyUSB0: USB Serial Converter [USB VID:PID=0403:6001 SER=FTFA5XKZ LOCATION=1-6.4.1]\n",
      "/dev/ttyUSB1: USB Serial Converter [USB VID:PID=0403:6001 SER=FTBYYVLI LOCATION=1-6.4.2]\n",
      "/dev/ttyUSB2: test [USB VID:PID=0403:6001 SER=ftE2ENTU LOCATION=1-6.4.4]\n"
     ]
    }
   ],
   "source": [
    "#Use to list all ports\n",
    "import serial.tools.list_ports\n",
    "ports = serial.tools.list_ports.comports()\n",
    "\n",
    "for port, desc, hwid in sorted(ports):\n",
    "        print(\"{}: {} [{}]\".format(port, desc, hwid))"
   ]
  },
  {
   "cell_type": "code",
   "execution_count": 13,
   "metadata": {
    "ExecuteTime": {
     "end_time": "2022-06-17T22:18:14.888095Z",
     "start_time": "2022-06-17T22:18:13.988187Z"
    }
   },
   "outputs": [
    {
     "name": "stdout",
     "output_type": "stream",
     "text": [
      "Opening port\n",
      "Port is open\n",
      "Ready to use\n",
      "/dev/ttyUSB1 open…\n",
      "Device Info: Agilent Technologies,E3648A,0,2.5-6.1-2.1\n",
      "\n",
      "Current Step size: +9.93725400E-05\n",
      "\n",
      "Closing...\n"
     ]
    }
   ],
   "source": [
    "print(\"Opening port\")\n",
    "\n",
    "try:\n",
    "  s = serial.Serial(\"/dev/ttyUSB1\",9600,timeout=2)\n",
    "  print(\"Port is open\")\n",
    "\n",
    "except serial.SerialException:\n",
    "  serial.Serial(\"/dev/ttyUSB1\", 9600).close()\n",
    "  print(\"Port is closed\")\n",
    "  s = serial.Serial(\"/dev/ttyUSB1\",9600)\n",
    "  print(\"Port is open again\")\n",
    "\n",
    "print(\"Ready to use\")\n",
    "\n",
    "if s.isOpen():    # make sure port is open\n",
    "\n",
    "    print(s.name + ' open…')    # tell the user we are starting\n",
    "\n",
    " \n",
    "\n",
    "s.write(b'*IDN?\\n')   # send the standard SCPI identify command\n",
    "\n",
    "myResponse = s.readline()    # read the response\n",
    "\n",
    "print(b'Device Info: ' + myResponse) # print the unit information\n",
    "\n",
    "sleepy.sleep(.5)\n",
    "\n",
    "s.write(b\"CURR:STEP?\\n\")\n",
    "print(b\"Current Step size: \"+s.readline())\n",
    "\n",
    "print(\"Closing...\")\n",
    "sleepy.sleep(.25)\n",
    "s.close()\n"
   ]
  },
  {
   "cell_type": "code",
   "execution_count": 26,
   "metadata": {
    "ExecuteTime": {
     "end_time": "2022-06-28T01:03:12.551449Z",
     "start_time": "2022-06-28T01:03:12.545236Z"
    }
   },
   "outputs": [
    {
     "data": {
      "text/plain": [
       "9"
      ]
     },
     "execution_count": 26,
     "metadata": {},
     "output_type": "execute_result"
    }
   ],
   "source": [
    "s = serial.Serial(\"/dev/ttyUSB1\")\n",
    "s.write('OUTPut ON')"
   ]
  },
  {
   "cell_type": "code",
   "execution_count": 22,
   "metadata": {
    "ExecuteTime": {
     "end_time": "2022-06-28T01:00:22.064660Z",
     "start_time": "2022-06-28T01:00:22.051401Z"
    }
   },
   "outputs": [
    {
     "data": {
      "text/plain": [
       "Serial<id=0x7f65004c1b90, open=True>(port='/dev/ttyUSB1', baudrate=9600, bytesize=8, parity='N', stopbits=1, timeout=None, xonxoff=False, rtscts=False, dsrdtr=False)"
      ]
     },
     "execution_count": 22,
     "metadata": {},
     "output_type": "execute_result"
    }
   ],
   "source": [
    "s"
   ]
  },
  {
   "cell_type": "code",
   "execution_count": 23,
   "metadata": {
    "ExecuteTime": {
     "end_time": "2022-06-28T01:02:20.003998Z",
     "start_time": "2022-06-28T01:02:19.988507Z"
    }
   },
   "outputs": [
    {
     "data": {
      "text/plain": [
       "Serial<id=0x7f65004c1110, open=True>(port='/dev/ttyUSB2', baudrate=9600, bytesize=8, parity='N', stopbits=1, timeout=None, xonxoff=False, rtscts=False, dsrdtr=False)"
      ]
     },
     "execution_count": 23,
     "metadata": {},
     "output_type": "execute_result"
    }
   ],
   "source": [
    "a=serial.Serial(\"/dev/ttyUSB2\")\n",
    "a"
   ]
  },
  {
   "cell_type": "code",
   "execution_count": null,
   "metadata": {},
   "outputs": [],
   "source": []
  }
 ],
 "metadata": {
  "kernelspec": {
   "display_name": "Python 2",
   "language": "python",
   "name": "python2"
  },
  "language_info": {
   "codemirror_mode": {
    "name": "ipython",
    "version": 2
   },
   "file_extension": ".py",
   "mimetype": "text/x-python",
   "name": "python",
   "nbconvert_exporter": "python",
   "pygments_lexer": "ipython2",
   "version": "2.7.15rc1"
  },
  "toc": {
   "base_numbering": 1,
   "nav_menu": {},
   "number_sections": true,
   "sideBar": true,
   "skip_h1_title": false,
   "title_cell": "Table of Contents",
   "title_sidebar": "Contents",
   "toc_cell": false,
   "toc_position": {},
   "toc_section_display": true,
   "toc_window_display": false
  },
  "varInspector": {
   "cols": {
    "lenName": 16,
    "lenType": 16,
    "lenVar": 40
   },
   "kernels_config": {
    "python": {
     "delete_cmd_postfix": "",
     "delete_cmd_prefix": "del ",
     "library": "var_list.py",
     "varRefreshCmd": "print(var_dic_list())"
    },
    "r": {
     "delete_cmd_postfix": ") ",
     "delete_cmd_prefix": "rm(",
     "library": "var_list.r",
     "varRefreshCmd": "cat(var_dic_list()) "
    }
   },
   "types_to_exclude": [
    "module",
    "function",
    "builtin_function_or_method",
    "instance",
    "_Feature"
   ],
   "window_display": false
  }
 },
 "nbformat": 4,
 "nbformat_minor": 2
}
